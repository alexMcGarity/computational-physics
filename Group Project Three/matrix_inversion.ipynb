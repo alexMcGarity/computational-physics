{
 "cells": [
  {
   "cell_type": "code",
   "execution_count": null,
   "metadata": {},
   "outputs": [
    {
     "name": "stdout",
     "output_type": "stream",
     "text": [
      "[[1, 1, 7], [9, 5, 1], [5, 10, 3]]\n"
     ]
    }
   ],
   "source": [
    "import matrix\n",
    "\n",
    "def test_matrix_inversion () :\n",
    "    \"test matrix inversion\"\n",
    "    print( \"Testing matrix inversion\" )\n",
    "\n",
    "    "
   ]
  },
  {
   "cell_type": "code",
   "execution_count": null,
   "metadata": {},
   "outputs": [],
   "source": []
  }
 ],
 "metadata": {
  "kernelspec": {
   "display_name": "Python 3",
   "language": "python",
   "name": "python3"
  },
  "language_info": {
   "codemirror_mode": {
    "name": "ipython",
    "version": 3
   },
   "file_extension": ".py",
   "mimetype": "text/x-python",
   "name": "python",
   "nbconvert_exporter": "python",
   "pygments_lexer": "ipython3",
   "version": "3.10.10"
  },
  "orig_nbformat": 4,
  "vscode": {
   "interpreter": {
    "hash": "25023e466fa3735353441a9750ec1431f91af0e07709d75994f3b2db92047dd9"
   }
  }
 },
 "nbformat": 4,
 "nbformat_minor": 2
}
