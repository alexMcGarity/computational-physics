{
 "cells": [
  {
   "cell_type": "code",
   "execution_count": 7,
   "metadata": {},
   "outputs": [
    {
     "name": "stdout",
     "output_type": "stream",
     "text": [
      "[[ 0.1627907  -0.23255814  0.08139535]\n",
      " [ 1.65116279 -0.93023256 -0.6744186 ]\n",
      " [-1.37984496  0.87596899  0.47674419]]\n"
     ]
    },
    {
     "ename": "UFuncTypeError",
     "evalue": "ufunc 'lcm' did not contain a loop with signature matching types (None, <class 'numpy.dtype[float64]'>) -> None",
     "output_type": "error",
     "traceback": [
      "\u001b[1;31m---------------------------------------------------------------------------\u001b[0m",
      "\u001b[1;31mUFuncTypeError\u001b[0m                            Traceback (most recent call last)",
      "Cell \u001b[1;32mIn [7], line 9\u001b[0m\n\u001b[0;32m      6\u001b[0m inverse \u001b[39m=\u001b[39m np\u001b[39m.\u001b[39mlinalg\u001b[39m.\u001b[39minv(matrix)\u001b[39m.\u001b[39mastype(\u001b[39mfloat\u001b[39m)\n\u001b[0;32m      8\u001b[0m \u001b[39m#factor out the denominator\u001b[39;00m\n\u001b[1;32m----> 9\u001b[0m denominator \u001b[39m=\u001b[39m np\u001b[39m.\u001b[39mlcm\u001b[39m.\u001b[39mreduce(inverse)\n\u001b[0;32m     10\u001b[0m inverse \u001b[39m=\u001b[39m (inverse \u001b[39m*\u001b[39m denominator)\u001b[39m.\u001b[39mastype(\u001b[39mint\u001b[39m)\n",
      "\u001b[1;31mUFuncTypeError\u001b[0m: ufunc 'lcm' did not contain a loop with signature matching types (None, <class 'numpy.dtype[float64]'>) -> None"
     ]
    }
   ],
   "source": [
    "import numpy as np\n",
    "matrix = [[38,47,60],[37,49,63],[42,46,60]]\n",
    "inverse = np.linalg.inv(matrix)\n",
    "print(inverse)\n",
    "#express as fractions\n",
    "inverse = np.linalg.inv(matrix).astype(float)"
   ]
  }
 ],
 "metadata": {
  "kernelspec": {
   "display_name": "Python 3",
   "language": "python",
   "name": "python3"
  },
  "language_info": {
   "codemirror_mode": {
    "name": "ipython",
    "version": 3
   },
   "file_extension": ".py",
   "mimetype": "text/x-python",
   "name": "python",
   "nbconvert_exporter": "python",
   "pygments_lexer": "ipython3",
   "version": "3.10.10"
  },
  "orig_nbformat": 4,
  "vscode": {
   "interpreter": {
    "hash": "25023e466fa3735353441a9750ec1431f91af0e07709d75994f3b2db92047dd9"
   }
  }
 },
 "nbformat": 4,
 "nbformat_minor": 2
}
