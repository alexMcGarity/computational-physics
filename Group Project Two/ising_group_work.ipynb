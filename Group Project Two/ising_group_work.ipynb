{
 "cells": [
  {
   "cell_type": "code",
   "execution_count": 12,
   "id": "7a9f9370",
   "metadata": {},
   "outputs": [
    {
     "name": "stdout",
     "output_type": "stream",
     "text": [
      "energy is  -392.0\n",
      "Initial matrix energy 0.0\n"
     ]
    },
    {
     "ename": "ValueError",
     "evalue": "The truth value of an array with more than one element is ambiguous. Use a.any() or a.all()",
     "output_type": "error",
     "traceback": [
      "\u001b[1;31m---------------------------------------------------------------------------\u001b[0m",
      "\u001b[1;31mValueError\u001b[0m                                Traceback (most recent call last)",
      "Cell \u001b[1;32mIn[12], line 77\u001b[0m\n\u001b[0;32m     75\u001b[0m \u001b[39m#test that the energy is computed correctly\u001b[39;00m\n\u001b[0;32m     76\u001b[0m \u001b[39mprint\u001b[39m(\u001b[39m\"\u001b[39m\u001b[39menergy is \u001b[39m\u001b[39m\"\u001b[39m, compute_energy(matrix))\n\u001b[1;32m---> 77\u001b[0m ising()\n",
      "Cell \u001b[1;32mIn[12], line 65\u001b[0m, in \u001b[0;36mising\u001b[1;34m()\u001b[0m\n\u001b[0;32m     61\u001b[0m \u001b[39mfor\u001b[39;00m steps \u001b[39min\u001b[39;00m \u001b[39mrange\u001b[39m(nsteps):\n\u001b[0;32m     62\u001b[0m     matrix \u001b[39m=\u001b[39m metropolis(matrix, beta)\n\u001b[1;32m---> 65\u001b[0m plt\u001b[39m.\u001b[39;49mshow(matrix)\n\u001b[0;32m     66\u001b[0m plt\u001b[39m.\u001b[39mtitle(\u001b[39m\"\u001b[39m\u001b[39mFinal matrix\u001b[39m\u001b[39m\"\u001b[39m)\n\u001b[0;32m     67\u001b[0m plt\u001b[39m.\u001b[39mshow() \n",
      "File \u001b[1;32mc:\\Python311\\Lib\\site-packages\\matplotlib\\pyplot.py:445\u001b[0m, in \u001b[0;36mshow\u001b[1;34m(*args, **kwargs)\u001b[0m\n\u001b[0;32m    401\u001b[0m \u001b[39m\u001b[39m\u001b[39m\"\"\"\u001b[39;00m\n\u001b[0;32m    402\u001b[0m \u001b[39mDisplay all open figures.\u001b[39;00m\n\u001b[0;32m    403\u001b[0m \n\u001b[1;32m   (...)\u001b[0m\n\u001b[0;32m    442\u001b[0m \u001b[39mexplicitly there.\u001b[39;00m\n\u001b[0;32m    443\u001b[0m \u001b[39m\"\"\"\u001b[39;00m\n\u001b[0;32m    444\u001b[0m _warn_if_gui_out_of_main_thread()\n\u001b[1;32m--> 445\u001b[0m \u001b[39mreturn\u001b[39;00m _get_backend_mod()\u001b[39m.\u001b[39;49mshow(\u001b[39m*\u001b[39;49margs, \u001b[39m*\u001b[39;49m\u001b[39m*\u001b[39;49mkwargs)\n",
      "File \u001b[1;32m~\\AppData\\Roaming\\Python\\Python311\\site-packages\\matplotlib_inline\\backend_inline.py:98\u001b[0m, in \u001b[0;36mshow\u001b[1;34m(close, block)\u001b[0m\n\u001b[0;32m     95\u001b[0m show\u001b[39m.\u001b[39m_to_draw \u001b[39m=\u001b[39m []\n\u001b[0;32m     96\u001b[0m \u001b[39m# only call close('all') if any to close\u001b[39;00m\n\u001b[0;32m     97\u001b[0m \u001b[39m# close triggers gc.collect, which can be slow\u001b[39;00m\n\u001b[1;32m---> 98\u001b[0m \u001b[39mif\u001b[39;00m close \u001b[39mand\u001b[39;00m Gcf\u001b[39m.\u001b[39mget_all_fig_managers():\n\u001b[0;32m     99\u001b[0m     matplotlib\u001b[39m.\u001b[39mpyplot\u001b[39m.\u001b[39mclose(\u001b[39m'\u001b[39m\u001b[39mall\u001b[39m\u001b[39m'\u001b[39m)\n",
      "\u001b[1;31mValueError\u001b[0m: The truth value of an array with more than one element is ambiguous. Use a.any() or a.all()"
     ]
    }
   ],
   "source": [
    "import math\n",
    "import matplotlib.pyplot as plt\n",
    "import numpy as np\n",
    "import random\n",
    "\n",
    "n = 500\n",
    "kT = 6.0\n",
    "beta = 1.0/kT\n",
    "nsteps = 1000\n",
    "    \n",
    "\n",
    "#This is our matrix\n",
    "def initial_matrix(n):\n",
    "    matrix = np.zeros((n,n))\n",
    "    for i in range(n):\n",
    "        for j in range(n):\n",
    "            matrix[i,j] = random.choice([-1,1])\n",
    "    return matrix\n",
    "#compute the energy of the matrix\n",
    "def compute_energy(matrix):\n",
    "    energy = 0\n",
    "    n = len(matrix)\n",
    "    for i in range(n):\n",
    "        for j in range(n):\n",
    "            A = matrix[i,j]\n",
    "            group_sum = matrix[(i+1)%n, j] + matrix[i, (j+1)%n] + matrix[(i-1)%n, j] + matrix[i, (j-1)%n]\n",
    "            energy += -group_sum*A/2 #divide by 2 so we don't double count\n",
    "    return energy\n",
    "\n",
    "\n",
    "\n",
    "def metropolis(matrix, beta):\n",
    "    n = matrix.shape[0]\n",
    "    for i in range(n):\n",
    "        for j in range(n):\n",
    "            #random spot, we will use x and y\n",
    "            x = random.randint(0, n-1)\n",
    "            y = random.randint(0, n-1)\n",
    "            s = matrix[x, y]\n",
    "            \n",
    "            group_sum = matrix[(x+1)%n, y] + matrix[x, (y+1)%n] + matrix[(x-1)%n, y] + matrix[x, (y-1)%n]\n",
    "            deltaE = 2*s*group_sum\n",
    "            #here the program decides to keep the spin or flip it\n",
    "            if deltaE < 0:\n",
    "                s *= 1\n",
    "            elif random.uniform(0, 1) < np.exp(-beta*deltaE):\n",
    "                s *= -1\n",
    "            \n",
    "            matrix[x, y] = s\n",
    "    return matrix\n",
    "\n",
    "def ising():\n",
    "    n = 10\n",
    "    kT = 6.0\n",
    "    beta = 1.0/kT\n",
    "    nsteps = 1000\n",
    "    \n",
    "    matrix = initial_matrix(n)\n",
    "    print(\"Initial matrix energy\", compute_energy(matrix))\n",
    "    \n",
    "    for steps in range(nsteps):\n",
    "        matrix = metropolis(matrix, beta)\n",
    "    \n",
    "    \n",
    "    plt.show(matrix)\n",
    "    plt.title(\"Final matrix\")\n",
    "    plt.show() \n",
    "    \n",
    "    print(\"Final matrix energy:\", compute_energy(matrix))\n",
    "    \n",
    "if __name__ == '__ising__':\n",
    "    ising()\n",
    "\n",
    "matrix = initial_matrix(n)\n",
    "#test that the energy is computed correctly\n",
    "print(\"energy is \", compute_energy(matrix))\n",
    "ising()"
   ]
  }
 ],
 "metadata": {
  "kernelspec": {
   "display_name": "Python 3",
   "language": "python",
   "name": "python3"
  },
  "language_info": {
   "codemirror_mode": {
    "name": "ipython",
    "version": 3
   },
   "file_extension": ".py",
   "mimetype": "text/x-python",
   "name": "python",
   "nbconvert_exporter": "python",
   "pygments_lexer": "ipython3",
   "version": "3.11.0"
  },
  "vscode": {
   "interpreter": {
    "hash": "c261aea317cc0286b3b3261fbba9abdec21eaa57589985bb7a274bf54d6cc0a7"
   }
  }
 },
 "nbformat": 4,
 "nbformat_minor": 5
}
