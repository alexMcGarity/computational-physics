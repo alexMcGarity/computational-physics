{
 "cells": [
  {
   "cell_type": "code",
   "execution_count": 4,
   "metadata": {},
   "outputs": [
    {
     "name": "stdout",
     "output_type": "stream",
     "text": [
      "[[ 1.  1.  1.]\n",
      " [ 1. -1.  1.]\n",
      " [-1.  1.  1.]]\n"
     ]
    }
   ],
   "source": [
    "#we start with a 5 by 5 grid of spins\n",
    "\n",
    "import numpy as np\n",
    "import matplotlib.pyplot as plt\n",
    "import random\n",
    "\n",
    "#initialize the grid\n",
    "def initialize_grid(n):\n",
    "    grid = np.zeros((n,n))\n",
    "    for i in range(n):\n",
    "        for j in range(n):\n",
    "            grid[i,j] = random.choice([-1,1])\n",
    "    return grid\n",
    "\n",
    "#test that the grid is initialized correctly\n",
    "grid = initialize_grid(3)\n",
    "print(grid)"
   ]
  },
  {
   "cell_type": "code",
   "execution_count": 6,
   "metadata": {},
   "outputs": [
    {
     "name": "stdout",
     "output_type": "stream",
     "text": [
      "-4.0\n"
     ]
    }
   ],
   "source": [
    "#compute the energy of the grid\n",
    "def compute_energy(grid):\n",
    "    energy = 0\n",
    "    n = len(grid)\n",
    "    for i in range(n):\n",
    "        for j in range(n):\n",
    "            #check the energy at each point by selecting the nearest neighbors and checking whether they are the same spin\n",
    "            energy += -grid[i,j]*(grid[(i+1)%n,j] + grid[i,(j+1)%n] + grid[(i-1)%n,j] + grid[i,(j-1)%n])\n",
    "    return energy\n",
    "\n",
    "#test that the energy is computed correctly\n",
    "print(compute_energy(grid))"
   ]
  }
 ],
 "metadata": {
  "kernelspec": {
   "display_name": "Python 3",
   "language": "python",
   "name": "python3"
  },
  "language_info": {
   "codemirror_mode": {
    "name": "ipython",
    "version": 3
   },
   "file_extension": ".py",
   "mimetype": "text/x-python",
   "name": "python",
   "nbconvert_exporter": "python",
   "pygments_lexer": "ipython3",
   "version": "3.10.10"
  },
  "orig_nbformat": 4,
  "vscode": {
   "interpreter": {
    "hash": "25023e466fa3735353441a9750ec1431f91af0e07709d75994f3b2db92047dd9"
   }
  }
 },
 "nbformat": 4,
 "nbformat_minor": 2
}
